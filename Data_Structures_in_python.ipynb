{
  "nbformat": 4,
  "nbformat_minor": 0,
  "metadata": {
    "colab": {
      "provenance": []
    },
    "kernelspec": {
      "name": "python3",
      "display_name": "Python 3"
    },
    "language_info": {
      "name": "python"
    }
  },
  "cells": [
    {
      "cell_type": "code",
      "source": [
        "#Q.1 Write a code to reverse a string"
      ],
      "metadata": {
        "id": "u8fdnUCui-Mb"
      },
      "execution_count": null,
      "outputs": []
    },
    {
      "cell_type": "code",
      "source": [
        "#Ans"
      ],
      "metadata": {
        "id": "5Rx7Xd-jkST1"
      },
      "execution_count": null,
      "outputs": []
    },
    {
      "cell_type": "code",
      "source": [
        "def reverse_string(s):\n",
        "    return s[::-1]\n",
        "\n",
        "input_string = \"Hello, World\"\n",
        "reversed_string = reverse_string(input_string)\n",
        "print(reversed_string)\n"
      ],
      "metadata": {
        "colab": {
          "base_uri": "https://localhost:8080/"
        },
        "id": "Dtm3dGZglgls",
        "outputId": "5e311edf-1404-4155-da94-4177f5fb1d06"
      },
      "execution_count": null,
      "outputs": [
        {
          "output_type": "stream",
          "name": "stdout",
          "text": [
            "dlroW ,olleH\n"
          ]
        }
      ]
    },
    {
      "cell_type": "code",
      "source": [
        "#Q.2 write a code to count the number of vowels in a string"
      ],
      "metadata": {
        "id": "Aq6VHcuLlu52"
      },
      "execution_count": null,
      "outputs": []
    },
    {
      "cell_type": "code",
      "source": [
        "#Ans"
      ],
      "metadata": {
        "id": "rB0_-U18mmi6"
      },
      "execution_count": null,
      "outputs": []
    },
    {
      "cell_type": "code",
      "source": [
        "def count_vowels(s):\n",
        "    vowels = \"private limited\"\n",
        "    count = sum(1 for char in s if char in vowels)\n",
        "    return count\n",
        "\n",
        "input_string = \"aadhi\"\n",
        "vowel_count = count_vowels(input_string)\n",
        "print(f\"Number of vowels: {vowel_count}\")\n"
      ],
      "metadata": {
        "colab": {
          "base_uri": "https://localhost:8080/"
        },
        "id": "1CNJpXJuoCit",
        "outputId": "63dca11c-ffd1-4785-c93d-9c9667316c41"
      },
      "execution_count": null,
      "outputs": [
        {
          "output_type": "stream",
          "name": "stdout",
          "text": [
            "Number of vowels: 4\n"
          ]
        }
      ]
    },
    {
      "cell_type": "code",
      "source": [
        "#Q.3 write a code to check if a given string is a palindrome or not"
      ],
      "metadata": {
        "id": "1UV4fWRbrtDp"
      },
      "execution_count": null,
      "outputs": []
    },
    {
      "cell_type": "code",
      "source": [
        "#Ans"
      ],
      "metadata": {
        "id": "t6x0lwQUwLX9"
      },
      "execution_count": null,
      "outputs": []
    },
    {
      "cell_type": "code",
      "source": [
        "def is_palindrome(s):\n",
        "\n",
        "    normalized_str = ''.join(s.split()).lower()\n",
        "    return normalized_str == normalized_str[::-1]\n",
        "\n",
        "input_string = \"A man a plan a canal Panama\"\n",
        "if is_palindrome(input_string):\n",
        "    print(f'\"{input_string}\" is a palindrome.')\n",
        "else:\n",
        "    print(f'\"{input_string}\" is not a palindrome.')"
      ],
      "metadata": {
        "colab": {
          "base_uri": "https://localhost:8080/"
        },
        "id": "PmvQn5tRwMxu",
        "outputId": "401c7409-c7ae-4d55-fa92-957d9ceaedb4"
      },
      "execution_count": null,
      "outputs": [
        {
          "output_type": "stream",
          "name": "stdout",
          "text": [
            "\"A man a plan a canal Panama\" is a palindrome.\n"
          ]
        }
      ]
    },
    {
      "cell_type": "code",
      "source": [
        "#Q.4 write a code to check if two given strings are anagrams of each other"
      ],
      "metadata": {
        "id": "EsV4S0H8wWrx"
      },
      "execution_count": null,
      "outputs": []
    },
    {
      "cell_type": "code",
      "source": [
        "#Ans"
      ],
      "metadata": {
        "id": "Pxh4cFmDxM5u"
      },
      "execution_count": null,
      "outputs": []
    },
    {
      "cell_type": "code",
      "source": [
        "def are_anagrams(str1, str2):\n",
        "    str1_normalized = ''.join(str1.split()).lower()\n",
        "    str2_normalized = ''.join(str2.split()).lower()\n",
        "\n",
        "    return sorted(str1_normalized) == sorted(str2_normalized)\n",
        "\n",
        "string1 = \"Listen\"\n",
        "string2 = \"Silent\"\n",
        "\n",
        "if are_anagrams(string1, string2):\n",
        "    print(f'\"{string1}\" and \"{string2}\" are anagrams.')\n",
        "else:\n",
        "    print(f'\"{string1}\" and \"{string2}\" are not anagrams.')\n"
      ],
      "metadata": {
        "colab": {
          "base_uri": "https://localhost:8080/"
        },
        "id": "4dnux-S3xPA2",
        "outputId": "9f7b7f65-6111-4d84-f5d6-f1cc30a8a378"
      },
      "execution_count": null,
      "outputs": [
        {
          "output_type": "stream",
          "name": "stdout",
          "text": [
            "\"Listen\" and \"Silent\" are anagrams.\n"
          ]
        }
      ]
    },
    {
      "cell_type": "code",
      "source": [
        "#Q.5 write a code to find all occurrences of a given substrings within another string\n"
      ],
      "metadata": {
        "id": "TnxxIdhexRM1"
      },
      "execution_count": null,
      "outputs": []
    },
    {
      "cell_type": "code",
      "source": [
        "#Ans"
      ],
      "metadata": {
        "id": "Ch58cWn3yNs0"
      },
      "execution_count": null,
      "outputs": []
    },
    {
      "cell_type": "code",
      "source": [
        "def find_all_occurrences(main_str, sub_str):\n",
        "    occurrences = []\n",
        "    start = 0\n",
        "\n",
        "    while start < len(main_str):\n",
        "        index = main_str.find(sub_str, start)\n",
        "\n",
        "        if index == -1:\n",
        "            break\n",
        "\n",
        "        occurrences.append(index)\n",
        "        start = index + 1\n",
        "\n",
        "    return occurrences\n",
        "\n",
        "main_string = \"test string test test\"\n",
        "substring = \"test\"\n",
        "\n",
        "occurrences = find_all_occurrences(main_string, substring)\n",
        "print(f'Occurrences of \"{substring}\" in \"{main_string}\" are at indices: {occurrences}')\n"
      ],
      "metadata": {
        "colab": {
          "base_uri": "https://localhost:8080/"
        },
        "id": "adIsF2cjyPcX",
        "outputId": "6d97c300-f34c-4fe0-db2b-475169f542ab"
      },
      "execution_count": null,
      "outputs": [
        {
          "output_type": "stream",
          "name": "stdout",
          "text": [
            "Occurrences of \"test\" in \"test string test test\" are at indices: [0, 12, 17]\n"
          ]
        }
      ]
    },
    {
      "cell_type": "code",
      "source": [
        "#Q.6 write a code to perform basic string compression using the counts repeated characters"
      ],
      "metadata": {
        "id": "VohUL3pcyqWv"
      },
      "execution_count": null,
      "outputs": []
    },
    {
      "cell_type": "code",
      "source": [
        "#Ans"
      ],
      "metadata": {
        "id": "D_HVWjX1z2vB"
      },
      "execution_count": null,
      "outputs": []
    },
    {
      "cell_type": "code",
      "source": [
        "def compress_string(s):\n",
        "    compressed = []\n",
        "    count = 1\n",
        "\n",
        "    for i in range(1, len(s)):\n",
        "        if s[i] == s[i - 1]:\n",
        "            count += 1\n",
        "        else:\n",
        "            compressed.append(s[i - 1] + str(count))\n",
        "            count = 1\n",
        "\n",
        "    compressed.append(s[-1] + str(count))\n",
        "\n",
        "    compressed_str = ''.join(compressed)\n",
        "\n",
        "    return compressed_str if len(compressed_str) < len(s) else s\n",
        "\n",
        "input_str = \"aaabbccccddd\"\n",
        "compressed_str = compress_string(input_str)\n",
        "print(f'Original string: {input_str}')\n",
        "print(f'Compressed string: {compressed_str}')\n"
      ],
      "metadata": {
        "colab": {
          "base_uri": "https://localhost:8080/"
        },
        "id": "Q3ca0lraz37n",
        "outputId": "1282946f-a109-4fdb-ce8e-2d72fb2a4b55"
      },
      "execution_count": null,
      "outputs": [
        {
          "output_type": "stream",
          "name": "stdout",
          "text": [
            "Original string: aaabbccccddd\n",
            "Compressed string: a3b2c4d3\n"
          ]
        }
      ]
    },
    {
      "cell_type": "code",
      "source": [
        "#Q.7 write a code to determine if a string has all unique character.\n"
      ],
      "metadata": {
        "id": "FxgRV0M10HH2"
      },
      "execution_count": null,
      "outputs": []
    },
    {
      "cell_type": "code",
      "source": [
        "def has_all_unique_characters(s):\n",
        "    seen = set()\n",
        "    for char in s:\n",
        "\n",
        "        if char in seen:\n",
        "            return False\n",
        "\n",
        "        seen.add(char)\n",
        "    return True\n",
        "\n",
        "input_string = \"hello\"\n",
        "print(has_all_unique_characters(input_string))"
      ],
      "metadata": {
        "colab": {
          "base_uri": "https://localhost:8080/"
        },
        "id": "E55eA2KTzGnX",
        "outputId": "78768017-baf1-45ce-fe73-aeb4909a008e"
      },
      "execution_count": null,
      "outputs": [
        {
          "output_type": "stream",
          "name": "stdout",
          "text": [
            "False\n"
          ]
        }
      ]
    },
    {
      "cell_type": "code",
      "source": [
        "def has_all_unique_characters(s):\n",
        "    if len(s) > 128:\n",
        "        return False\n",
        "\n",
        "    char_set = [False] * 128\n",
        "    for char in s:\n",
        "        index = ord(char)\n",
        "        if char_set[index]:\n",
        "            return False\n",
        "        char_set[index] = True\n",
        "    return True\n",
        "\n",
        "input_string = \"world\"\n",
        "print(has_all_unique_characters(input_string))"
      ],
      "metadata": {
        "colab": {
          "base_uri": "https://localhost:8080/"
        },
        "id": "yegE-I620Duk",
        "outputId": "e3a78758-dbd5-41ac-c950-c7dab0be1277"
      },
      "execution_count": null,
      "outputs": [
        {
          "output_type": "stream",
          "name": "stdout",
          "text": [
            "True\n"
          ]
        }
      ]
    },
    {
      "cell_type": "code",
      "source": [
        "def has_all_unique_characters(s):\n",
        "    sorted_str = sorted(s)\n",
        "    for i in range(len(sorted_str) - 1):\n",
        "        if sorted_str[i] == sorted_str[i + 1]:\n",
        "            return False\n",
        "    return True\n",
        "\n",
        "input_string = \"abcde\"\n",
        "print(has_all_unique_characters(input_string))"
      ],
      "metadata": {
        "colab": {
          "base_uri": "https://localhost:8080/"
        },
        "id": "UOtAs_mP0hIf",
        "outputId": "27ff9a41-885d-45f9-b901-3ec98c5abef5"
      },
      "execution_count": null,
      "outputs": [
        {
          "output_type": "stream",
          "name": "stdout",
          "text": [
            "True\n"
          ]
        }
      ]
    },
    {
      "cell_type": "code",
      "source": [
        "#Q.8 write a code to convert a given string to uppercase or lowercase."
      ],
      "metadata": {
        "id": "JG-Db-3Q06gG"
      },
      "execution_count": null,
      "outputs": []
    },
    {
      "cell_type": "code",
      "source": [
        "# Ans"
      ],
      "metadata": {
        "id": "NLpBysBm10PC"
      },
      "execution_count": null,
      "outputs": []
    },
    {
      "cell_type": "code",
      "source": [
        "def convert_string(s, to_upper=True):\n",
        "    if to_upper:\n",
        "        return s.upper()\n",
        "    else:\n",
        "        return s.lower()\n",
        "\n",
        "input_string = \"Hello, World!\"\n",
        "\n",
        "uppercase_string = convert_string(input_string, to_upper=True)\n",
        "print(uppercase_string)\n",
        "\n",
        "lowercase_string = convert_string(input_string, to_upper=False)\n",
        "print(lowercase_string)\n"
      ],
      "metadata": {
        "colab": {
          "base_uri": "https://localhost:8080/"
        },
        "id": "C-6CkeEl14Qs",
        "outputId": "ce18962d-1806-49d2-da05-5641c776f4c6"
      },
      "execution_count": null,
      "outputs": [
        {
          "output_type": "stream",
          "name": "stdout",
          "text": [
            "HELLO, WORLD!\n",
            "hello, world!\n"
          ]
        }
      ]
    },
    {
      "cell_type": "code",
      "source": [
        "#Q.9  write a code to count the number of words in a string."
      ],
      "metadata": {
        "id": "o1Z-Vrw01_WX"
      },
      "execution_count": null,
      "outputs": []
    },
    {
      "cell_type": "code",
      "source": [
        "#Ans"
      ],
      "metadata": {
        "id": "EtQas4pg2zwz"
      },
      "execution_count": null,
      "outputs": []
    },
    {
      "cell_type": "code",
      "source": [
        "def count_words(s):\n",
        "    words = s.split()\n",
        "    return len(words)\n",
        "\n",
        "input_string = \"Hello, how are you today?\"\n",
        "word_count = count_words(input_string)\n",
        "print(f\"Number of words: {word_count}\")"
      ],
      "metadata": {
        "colab": {
          "base_uri": "https://localhost:8080/"
        },
        "id": "6aurPkRg21it",
        "outputId": "ce627c60-4051-4f25-e673-895fd94cd8c4"
      },
      "execution_count": null,
      "outputs": [
        {
          "output_type": "stream",
          "name": "stdout",
          "text": [
            "Number of words: 5\n"
          ]
        }
      ]
    },
    {
      "cell_type": "code",
      "source": [
        "#Q .10 write a code to Concatenate two strings without using the + operator."
      ],
      "metadata": {
        "id": "MtBJ4eYd3Hph"
      },
      "execution_count": null,
      "outputs": []
    },
    {
      "cell_type": "code",
      "source": [
        "#Ans"
      ],
      "metadata": {
        "id": "f4zYPX7P3rPd"
      },
      "execution_count": null,
      "outputs": []
    },
    {
      "cell_type": "code",
      "source": [
        "def concatenate_strings(str1, str2):\n",
        "    return ''.join([str1, str2])\n",
        "\n",
        "string1 = \"Hello, \"\n",
        "string2 = \"World!\"\n",
        "result = concatenate_strings(string1, string2)\n",
        "print(result)"
      ],
      "metadata": {
        "colab": {
          "base_uri": "https://localhost:8080/"
        },
        "id": "LlyuvE1d32fX",
        "outputId": "f7486ccd-65f2-4ff3-8380-a2ace7de1e4e"
      },
      "execution_count": null,
      "outputs": [
        {
          "output_type": "stream",
          "name": "stdout",
          "text": [
            "Hello, World!\n"
          ]
        }
      ]
    },
    {
      "cell_type": "code",
      "source": [
        "def concatenate_strings(str1, str2):\n",
        "    result = []\n",
        "    result.append(str1)\n",
        "    result.append(str2)\n",
        "    return ''.join(result)\n",
        "\n",
        "string1 = \"Goodbye, \"\n",
        "string2 = \"Everyone!\"\n",
        "result = concatenate_strings(string1, string2)\n",
        "print(result)"
      ],
      "metadata": {
        "colab": {
          "base_uri": "https://localhost:8080/"
        },
        "id": "_zAWQKP34Bym",
        "outputId": "9191b732-ce3a-4d46-a48a-484e4b03f643"
      },
      "execution_count": null,
      "outputs": [
        {
          "output_type": "stream",
          "name": "stdout",
          "text": [
            "Goodbye, Everyone!\n"
          ]
        }
      ]
    },
    {
      "cell_type": "code",
      "source": [
        "#Q.11 write a code to remove all occurrences of a specific element from a list."
      ],
      "metadata": {
        "id": "wF4bbJUD4PwN"
      },
      "execution_count": null,
      "outputs": []
    },
    {
      "cell_type": "code",
      "source": [
        "#Ans"
      ],
      "metadata": {
        "id": "9F6D3UiH4vW4"
      },
      "execution_count": null,
      "outputs": []
    },
    {
      "cell_type": "code",
      "source": [
        "def remove_element(lst, element):\n",
        "        return [item for item in lst if item != element]\n",
        "\n",
        "my_list = [1, 2, 3, 4, 2, 5, 2, 6]\n",
        "element_to_remove = 2\n",
        "result = remove_element(my_list, element_to_remove)\n",
        "print(result)"
      ],
      "metadata": {
        "colab": {
          "base_uri": "https://localhost:8080/"
        },
        "id": "yQJS2Nc744yG",
        "outputId": "aa0cc0d6-7fed-41d5-b5f3-d59dca67aa84"
      },
      "execution_count": null,
      "outputs": [
        {
          "output_type": "stream",
          "name": "stdout",
          "text": [
            "[1, 3, 4, 5, 6]\n"
          ]
        }
      ]
    },
    {
      "cell_type": "code",
      "source": [
        "#Q.12 Implements a code to find the second largest number in a given list of integers"
      ],
      "metadata": {
        "id": "kYHunMMi5LcT"
      },
      "execution_count": null,
      "outputs": []
    },
    {
      "cell_type": "code",
      "source": [
        "#Ans"
      ],
      "metadata": {
        "id": "HXssJRSq53d3"
      },
      "execution_count": null,
      "outputs": []
    },
    {
      "cell_type": "code",
      "source": [
        "def find_second_largest(numbers):\n",
        "    if len(numbers) < 2:\n",
        "        return None\n",
        "\n",
        "    unique_numbers = list(set(numbers))\n",
        "    unique_numbers.sort(reverse=True)\n",
        "\n",
        "    if len(unique_numbers) < 2:\n",
        "        return None\n",
        "\n",
        "    return unique_numbers[1]\n",
        "\n",
        "\n",
        "numbers = [12, 35, 1, 10, 34, 1]\n",
        "second_largest = find_second_largest(numbers)\n",
        "print(\"The second largest number is:\", second_largest)\n"
      ],
      "metadata": {
        "colab": {
          "base_uri": "https://localhost:8080/"
        },
        "id": "95IZY3N059sk",
        "outputId": "a9a1f282-7022-4497-c725-109db8c580f6"
      },
      "execution_count": null,
      "outputs": [
        {
          "output_type": "stream",
          "name": "stdout",
          "text": [
            "The second largest number is: 34\n"
          ]
        }
      ]
    },
    {
      "cell_type": "code",
      "source": [
        "#Q.13 create a code to count the occurrances of each elements in a list and return a dictionary with elements as keys and their counts as values."
      ],
      "metadata": {
        "id": "ldUZb5gf6i_e"
      },
      "execution_count": null,
      "outputs": []
    },
    {
      "cell_type": "code",
      "source": [
        "#Ans"
      ],
      "metadata": {
        "id": "obt6Mibn7g3l"
      },
      "execution_count": null,
      "outputs": []
    },
    {
      "cell_type": "code",
      "source": [
        "def count_occurrences(elements):\n",
        "    counts = {}\n",
        "    for element in elements:\n",
        "        if element in counts:\n",
        "            counts[element] += 1\n",
        "        else:\n",
        "            counts[element] = 1\n",
        "    return counts\n",
        "\n",
        "elements = [1, 2, 2, 3, 4, 4, 4, 5, 1, 3]\n",
        "occurrences = count_occurrences(elements)\n",
        "print(\"Element counts:\", occurrences)"
      ],
      "metadata": {
        "colab": {
          "base_uri": "https://localhost:8080/"
        },
        "id": "f-wSQ3L87mDB",
        "outputId": "39a9ba3c-8d08-4265-e37f-cbdb25241265"
      },
      "execution_count": null,
      "outputs": [
        {
          "output_type": "stream",
          "name": "stdout",
          "text": [
            "Element counts: {1: 2, 2: 2, 3: 2, 4: 3, 5: 1}\n"
          ]
        }
      ]
    },
    {
      "cell_type": "code",
      "source": [
        "#Q.14 write a code to reverse a list in-place without using any built-in reverse functions"
      ],
      "metadata": {
        "id": "BlDT4C6g7ycQ"
      },
      "execution_count": null,
      "outputs": []
    },
    {
      "cell_type": "code",
      "source": [
        "#Ans"
      ],
      "metadata": {
        "id": "gHKEkS5m9oTV"
      },
      "execution_count": null,
      "outputs": []
    },
    {
      "cell_type": "code",
      "source": [
        "def reverse_list_in_place(lst):\n",
        "    left = 0\n",
        "    right = len(lst) - 1\n",
        "\n",
        "    while left < right:\n",
        "        lst[left], lst[right] = lst[right], lst[left]\n",
        "        left += 1\n",
        "        right -= 1\n",
        "\n",
        "lst = [1, 2, 3, 4, 5]\n",
        "reverse_list_in_place(lst)\n",
        "print(\"Reversed list:\", lst)\n"
      ],
      "metadata": {
        "colab": {
          "base_uri": "https://localhost:8080/"
        },
        "id": "TKx7UlGJ-OJY",
        "outputId": "a326ecca-3628-45e1-98a0-60f7fac8987b"
      },
      "execution_count": null,
      "outputs": [
        {
          "output_type": "stream",
          "name": "stdout",
          "text": [
            "Reversed list: [5, 4, 3, 2, 1]\n"
          ]
        }
      ]
    },
    {
      "cell_type": "code",
      "source": [
        "#Q.15 Implement a code to find and remove duplicate from a list while preserving the original order fo elements."
      ],
      "metadata": {
        "id": "Nyn043v1-ciq"
      },
      "execution_count": null,
      "outputs": []
    },
    {
      "cell_type": "code",
      "source": [
        "#Ans"
      ],
      "metadata": {
        "id": "TPkhpb09_Opi"
      },
      "execution_count": null,
      "outputs": []
    },
    {
      "cell_type": "code",
      "source": [
        "def remove_duplicates(lst):\n",
        "    seen = set()\n",
        "    result = []\n",
        "\n",
        "    for element in lst:\n",
        "        if element not in seen:\n",
        "            result.append(element)\n",
        "            seen.add(element)\n",
        "\n",
        "    return result\n",
        "\n",
        "lst = [1, 2, 2, 3, 4, 4, 5, 1, 3]\n",
        "unique_list = remove_duplicates(lst)\n",
        "print(\"List without duplicates:\", unique_list)\n"
      ],
      "metadata": {
        "colab": {
          "base_uri": "https://localhost:8080/"
        },
        "id": "iDaVD2xd_RXx",
        "outputId": "52262a1c-31a2-4981-f423-9aa353613eb9"
      },
      "execution_count": null,
      "outputs": [
        {
          "output_type": "stream",
          "name": "stdout",
          "text": [
            "List without duplicates: [1, 2, 3, 4, 5]\n"
          ]
        }
      ]
    },
    {
      "cell_type": "code",
      "source": [
        "#Q.16 Create a code to check if a given list is sorted (either in ascending or descending order )or not ."
      ],
      "metadata": {
        "id": "hFO_KBE0_svf"
      },
      "execution_count": null,
      "outputs": []
    },
    {
      "cell_type": "code",
      "source": [
        "#Ans"
      ],
      "metadata": {
        "id": "pvXGHvXlAFCm"
      },
      "execution_count": null,
      "outputs": []
    },
    {
      "cell_type": "code",
      "source": [
        "def is_sorted(lst):\n",
        "    ascending = True\n",
        "    descending = True\n",
        "\n",
        "\n",
        "    for i in range(len(lst) - 1):\n",
        "        if lst[i] > lst[i + 1]:\n",
        "            ascending = False\n",
        "            break\n",
        "    for i in range(len(lst) - 1):\n",
        "        if lst[i] < lst[i + 1]:\n",
        "            descending = False\n",
        "            break\n",
        "    if ascending:\n",
        "        return \"List is sorted in ascending order.\"\n",
        "    elif descending:\n",
        "        return \"List is sorted in descending order.\"\n",
        "    else:\n",
        "        return \"List is not sorted.\"\n",
        "lst1 = [1, 2, 3, 4, 5]\n",
        "lst2 = [5, 4, 3, 2, 1]\n",
        "lst3 = [3, 1, 4, 2, 5]\n",
        "\n",
        "print(is_sorted(lst1))\n",
        "print(is_sorted(lst2))\n",
        "print(is_sorted(lst3))\n"
      ],
      "metadata": {
        "colab": {
          "base_uri": "https://localhost:8080/"
        },
        "id": "SyUr2K9hAg4H",
        "outputId": "4788ee92-d664-4bb7-c48a-34f8f8cc80f4"
      },
      "execution_count": null,
      "outputs": [
        {
          "output_type": "stream",
          "name": "stdout",
          "text": [
            "List is sorted in ascending order.\n",
            "List is sorted in descending order.\n",
            "List is not sorted.\n"
          ]
        }
      ]
    },
    {
      "cell_type": "code",
      "source": [
        "#Q.17 Write a code to merge two sorted lists into a single sorted list."
      ],
      "metadata": {
        "id": "WvhJiJNtA4Nq"
      },
      "execution_count": null,
      "outputs": []
    },
    {
      "cell_type": "code",
      "source": [
        "#Ans"
      ],
      "metadata": {
        "id": "otCx1ru9BXkM"
      },
      "execution_count": null,
      "outputs": []
    },
    {
      "cell_type": "code",
      "source": [
        "def merge_sorted_lists(list1, list2):\n",
        "    merged_list = []\n",
        "    i = 0\n",
        "    j = 0\n",
        "    while i < len(list1) and j < len(list2):\n",
        "        if list1[i] < list2[j]:\n",
        "            merged_list.append(list1[i])\n",
        "            i += 1\n",
        "        else:\n",
        "            merged_list.append(list2[j])\n",
        "            j += 1\n",
        "    while i < len(list1):\n",
        "        merged_list.append(list1[i])\n",
        "        i += 1\n",
        "    while j < len(list2):\n",
        "        merged_list.append(list2[j])\n",
        "        j += 1\n",
        "    return merged_list\n",
        "\n",
        "list1 = [1, 3, 5, 7]\n",
        "list2 = [2, 4, 6, 8]\n",
        "merged_list = merge_sorted_lists(list1, list2)\n",
        "print(\"Merged sorted list:\", merged_list)"
      ],
      "metadata": {
        "colab": {
          "base_uri": "https://localhost:8080/"
        },
        "id": "HCA2JJgABxHm",
        "outputId": "c5b25784-bc7f-41ec-a189-096daa937595"
      },
      "execution_count": null,
      "outputs": [
        {
          "output_type": "stream",
          "name": "stdout",
          "text": [
            "Merged sorted list: [1, 2, 3, 4, 5, 6, 7, 8]\n"
          ]
        }
      ]
    },
    {
      "cell_type": "code",
      "source": [
        "#Q.18 Implement a code to find the intersection of two given lists."
      ],
      "metadata": {
        "id": "MhuD_yUsB-E4"
      },
      "execution_count": null,
      "outputs": []
    },
    {
      "cell_type": "code",
      "source": [
        "#Ans"
      ],
      "metadata": {
        "id": "5-BqhGeDCsGI"
      },
      "execution_count": null,
      "outputs": []
    },
    {
      "cell_type": "code",
      "source": [
        "def find_intersection(list1, list2):\n",
        "    intersection = list(set(list1) & set(list2))\n",
        "    return intersection\n",
        "list1 = [1, 2, 3, 4, 5]\n",
        "list2 = [4, 5, 6, 7, 8]\n",
        "intersection = find_intersection(list1, list2)\n",
        "print(\"Intersection of the lists:\", intersection)\n"
      ],
      "metadata": {
        "colab": {
          "base_uri": "https://localhost:8080/"
        },
        "id": "D4gAkvvaCt4f",
        "outputId": "178a4f89-e924-4f64-8516-da00603574d5"
      },
      "execution_count": null,
      "outputs": [
        {
          "output_type": "stream",
          "name": "stdout",
          "text": [
            "Intersection of the lists: [4, 5]\n"
          ]
        }
      ]
    },
    {
      "cell_type": "code",
      "source": [
        "def find_intersection(list1, list2):\n",
        "    intersection = [item for item in list1 if item in list2]\n",
        "    return intersection"
      ],
      "metadata": {
        "id": "dBcNK613Dg9c"
      },
      "execution_count": null,
      "outputs": []
    },
    {
      "cell_type": "code",
      "source": [
        "#Q.19 create a code to find the union of two list with out duplicates."
      ],
      "metadata": {
        "id": "s4jKGzHoDq3y"
      },
      "execution_count": null,
      "outputs": []
    },
    {
      "cell_type": "code",
      "source": [
        "#Ans"
      ],
      "metadata": {
        "id": "RTcy8yCbD6sf"
      },
      "execution_count": null,
      "outputs": []
    },
    {
      "cell_type": "code",
      "source": [
        "def find_union(list1, list2):\n",
        "    union = list(set(list1) | set(list2))\n",
        "    return union\n",
        "list1 = [1, 2, 3, 4, 5]\n",
        "list2 = [4, 5, 6, 7, 8]\n",
        "union_list = find_union(list1, list2)\n",
        "print(\"Union of the lists without duplicates:\", union_list)\n"
      ],
      "metadata": {
        "colab": {
          "base_uri": "https://localhost:8080/"
        },
        "id": "umagzeCZD9M9",
        "outputId": "8e1557e9-53e7-4b0b-b91b-62a897d0be40"
      },
      "execution_count": null,
      "outputs": [
        {
          "output_type": "stream",
          "name": "stdout",
          "text": [
            "Union of the lists without duplicates: [1, 2, 3, 4, 5, 6, 7, 8]\n"
          ]
        }
      ]
    },
    {
      "cell_type": "code",
      "source": [
        "def find_union(list1, list2):\n",
        "    union = []\n",
        "    for item in list1:\n",
        "        if item not in union:\n",
        "            union.append(item)\n",
        "    for item in list2:\n",
        "        if item not in union:\n",
        "            union.append(item)\n",
        "    return union"
      ],
      "metadata": {
        "id": "wYJXX-CEEJ0m"
      },
      "execution_count": null,
      "outputs": []
    },
    {
      "cell_type": "code",
      "source": [
        "# Q .20 write a code to shuffle a given list randomly without using any bult-in shuffle function."
      ],
      "metadata": {
        "id": "TyJczkZ4EmJe"
      },
      "execution_count": null,
      "outputs": []
    },
    {
      "cell_type": "code",
      "source": [
        "#Ans"
      ],
      "metadata": {
        "id": "FHiIRfSYFNQQ"
      },
      "execution_count": null,
      "outputs": []
    },
    {
      "cell_type": "code",
      "source": [
        "import random\n",
        "\n",
        "def shuffle_list(lst):\n",
        "    n = len(lst)\n",
        "    for i in range(n):\n",
        "        rand_index = random.randint(i, n-1)\n",
        "        lst[i], lst[rand_index] = lst[rand_index], lst[i]\n",
        "lst = [1, 2, 3, 4, 5]\n",
        "shuffle_list(lst)\n",
        "print(\"Shuffled list:\", lst)\n"
      ],
      "metadata": {
        "colab": {
          "base_uri": "https://localhost:8080/"
        },
        "id": "aUpfuITzFTlz",
        "outputId": "1be58a40-6233-444c-d367-d194e6c31084"
      },
      "execution_count": null,
      "outputs": [
        {
          "output_type": "stream",
          "name": "stdout",
          "text": [
            "Shuffled list: [4, 1, 3, 5, 2]\n"
          ]
        }
      ]
    },
    {
      "cell_type": "code",
      "source": [
        "# Q.21 write a code that takes two tuples as input and returns a new tuple containing elements that are commom to both input tuples."
      ],
      "metadata": {
        "id": "SjAMd33-FuOl"
      },
      "execution_count": null,
      "outputs": []
    },
    {
      "cell_type": "code",
      "source": [
        "#Ans"
      ],
      "metadata": {
        "id": "YMsx1YB28sQH"
      },
      "execution_count": null,
      "outputs": []
    },
    {
      "cell_type": "code",
      "source": [
        "def common_elements(tuple1, tuple2):\n",
        "        common_set = set(tuple1) & set(tuple2)\n",
        "        return tuple(common_set)\n",
        "tuple1 = (1, 2, 3, 4, 5)\n",
        "tuple2 = (4, 5, 6, 7, 8)\n",
        "result = common_elements(tuple1, tuple2)\n",
        "print(result)\n"
      ],
      "metadata": {
        "colab": {
          "base_uri": "https://localhost:8080/"
        },
        "id": "0gT8YGih8t88",
        "outputId": "2199bacd-5ac6-4341-eef5-d7f831a7cd01"
      },
      "execution_count": null,
      "outputs": [
        {
          "output_type": "stream",
          "name": "stdout",
          "text": [
            "(4, 5)\n"
          ]
        }
      ]
    },
    {
      "cell_type": "code",
      "source": [
        "#Q.22 create a code that prompts the user two enter two sets of integers seperated by commas.then,print the intersection of these two sets."
      ],
      "metadata": {
        "id": "iFWsWvU69kGr"
      },
      "execution_count": null,
      "outputs": []
    },
    {
      "cell_type": "code",
      "source": [
        "#Ans"
      ],
      "metadata": {
        "id": "Ov6VT47G_y8c"
      },
      "execution_count": null,
      "outputs": []
    },
    {
      "cell_type": "code",
      "source": [
        "def find_intersection():\n",
        "    set1 = input(\"Enter the first set of integers (separated by commas): \")\n",
        "    set2 = input(\"Enter the second set of integers (separated by commas): \")\n",
        "\n",
        "    set1 = set(map(int, set1.split(',')))\n",
        "    set2 = set(map(int, set2.split(',')))\n",
        "\n",
        "    intersection = set1.intersection(set2)\n",
        "    print(\"The intersection of the two sets is:\", intersection)\n",
        "\n",
        "find_intersection()\n"
      ],
      "metadata": {
        "colab": {
          "base_uri": "https://localhost:8080/"
        },
        "id": "D73-GRiC2rlI",
        "outputId": "2a4d4a35-33ab-45c2-85df-a1a13ccf2cbc"
      },
      "execution_count": null,
      "outputs": [
        {
          "output_type": "stream",
          "name": "stdout",
          "text": [
            "Enter the first set of integers (separated by commas): 1,2,3,4\n",
            "Enter the second set of integers (separated by commas): 3,4,5,6\n",
            "The intersection of the two sets is: {3, 4}\n"
          ]
        }
      ]
    },
    {
      "cell_type": "code",
      "source": [
        "#Q.23 write a code to concatenate two tuples.The function should take two tuples as input and return a new tuple containing elements from both input tuples."
      ],
      "metadata": {
        "id": "9cqK_Ol7BRbx"
      },
      "execution_count": null,
      "outputs": []
    },
    {
      "cell_type": "code",
      "source": [
        "#Ans"
      ],
      "metadata": {
        "id": "wP2rxWV3GAyC"
      },
      "execution_count": null,
      "outputs": []
    },
    {
      "cell_type": "code",
      "source": [
        "def concatenate_tuples(tuple1, tuple2):\n",
        "    return tuple1 + tuple2\n",
        "\n",
        "tuple1 = (1, 2, 3)\n",
        "tuple2 = (4, 5, 6)\n",
        "result = concatenate_tuples(tuple1, tuple2)\n",
        "print(result)"
      ],
      "metadata": {
        "colab": {
          "base_uri": "https://localhost:8080/"
        },
        "id": "4JG3Xus9GCxw",
        "outputId": "3932c1b4-038d-4262-d49e-78e371f54c72"
      },
      "execution_count": null,
      "outputs": [
        {
          "output_type": "stream",
          "name": "stdout",
          "text": [
            "(1, 2, 3, 4, 5, 6)\n"
          ]
        }
      ]
    },
    {
      "cell_type": "code",
      "source": [
        "#Q.24 Develop a code that prompts the user to input two sets of strings.Then,print the elements that are present in the first set but not in the second set."
      ],
      "metadata": {
        "id": "pQASDw5DGH3W"
      },
      "execution_count": null,
      "outputs": []
    },
    {
      "cell_type": "code",
      "source": [
        "#Ans"
      ],
      "metadata": {
        "id": "lk6q0ZWYG_R2"
      },
      "execution_count": null,
      "outputs": []
    },
    {
      "cell_type": "code",
      "source": [
        "def get_set_from_input(prompt):\n",
        "        user_input = input(prompt)\n",
        "        return set(user_input.split(','))\n",
        "\n",
        "set1 = get_set_from_input(\"Enter the first set of strings (separated by commas): \")\n",
        "set2 = get_set_from_input(\"Enter the second set of strings (separated by commas): \")\n",
        "\n",
        "difference = set1 - set2\n",
        "\n",
        "print(\"Elements present in the first set but not in the second set:\", difference)\n"
      ],
      "metadata": {
        "colab": {
          "base_uri": "https://localhost:8080/"
        },
        "id": "A9KXNCdMHA32",
        "outputId": "efc10b3d-5fd9-473e-9df3-c545385a0a9c"
      },
      "execution_count": null,
      "outputs": [
        {
          "name": "stdout",
          "output_type": "stream",
          "text": [
            "Enter the first set of strings (separated by commas): difference\n"
          ]
        }
      ]
    },
    {
      "cell_type": "code",
      "source": [
        "#Q.25 create a code that text a tuple and two integer as input.The function should return a new tuple containing element from the original tuple within that specified range of indices."
      ],
      "metadata": {
        "id": "5SDMcip5HJZk"
      },
      "execution_count": null,
      "outputs": []
    },
    {
      "cell_type": "code",
      "source": [
        "def get_tuple_slice(original_tuple, start_index, end_index):\n",
        "\n",
        "    if start_index < 0 or end_index > len(original_tuple) or start_index > end_index:\n",
        "        return \"Invalid index range.\"\n",
        "    return original_tuple[start_index:end_index]\n",
        "\n",
        "original_tuple = (10, 20, 30, 40, 50, 60)\n",
        "start = 1\n",
        "end = 4\n",
        "result = get_tuple_slice(original_tuple, start, end)\n",
        "print(f\"Original Tuple: {original_tuple}\")\n",
        "print(f\"New Tuple: {result}\")\n"
      ],
      "metadata": {
        "colab": {
          "base_uri": "https://localhost:8080/"
        },
        "id": "ptb2WBaZhm1F",
        "outputId": "0f2fc122-7fbe-48e8-b08e-201291841e6e"
      },
      "execution_count": null,
      "outputs": [
        {
          "output_type": "stream",
          "name": "stdout",
          "text": [
            "Original Tuple: (10, 20, 30, 40, 50, 60)\n",
            "New Tuple: (20, 30, 40)\n"
          ]
        }
      ]
    },
    {
      "cell_type": "code",
      "source": [
        "# Q.26 write a code that promptes the user to input two sets of characters.Then,print the union of these two sets."
      ],
      "metadata": {
        "id": "iqNlU5Wnh14s"
      },
      "execution_count": null,
      "outputs": []
    },
    {
      "cell_type": "code",
      "source": [
        "def union_of_sets():\n",
        "\n",
        "    set1_input = input(\"Enter the first set of characters (e.g., a b c): \")\n",
        "    set2_input = input(\"Enter the second set of characters (e.g., d e f): \")\n",
        "\n",
        "    set1 = set(set1_input.split())\n",
        "    set2 = set(set2_input.split())\n",
        "\n",
        "    union_set = set1.union(set2)\n",
        "\n",
        "    print(f\"The union of the two sets is: {union_set}\")\n",
        "\n",
        "union_of_sets()\n"
      ],
      "metadata": {
        "colab": {
          "base_uri": "https://localhost:8080/"
        },
        "id": "4U2ymK-FjKge",
        "outputId": "00bd880c-b8d6-49f3-d6a5-29a8b001dff8"
      },
      "execution_count": null,
      "outputs": [
        {
          "output_type": "stream",
          "name": "stdout",
          "text": [
            "Enter the first set of characters (e.g., a b c): a b c\n",
            "Enter the second set of characters (e.g., d e f): c d e\n",
            "The union of the two sets is: {'c', 'b', 'e', 'd', 'a'}\n"
          ]
        }
      ]
    },
    {
      "cell_type": "code",
      "source": [
        "#Q.27 Develope a code  that takes a tuple of integers as input.The fumnction should return the maximum and minimum values from the tuple using tuple unpacking."
      ],
      "metadata": {
        "id": "6jpSloObj4yV"
      },
      "execution_count": null,
      "outputs": []
    },
    {
      "cell_type": "code",
      "source": [
        "def max_min_from_tuple(int_tuple):\n",
        "    if not int_tuple:\n",
        "        return \"The tuple is empty.\"\n",
        "\n",
        "    max_value = max(int_tuple)\n",
        "    min_value = min(int_tuple)\n",
        "\n",
        "    return max_value, min_value\n",
        "\n",
        "input_tuple = (5, 10, 15, 3, 7, 1)\n",
        "max_value, min_value = max_min_from_tuple(input_tuple)\n",
        "print(f\"Maximum value: {max_value}, Minimum value: {min_value}\")"
      ],
      "metadata": {
        "colab": {
          "base_uri": "https://localhost:8080/"
        },
        "id": "9mQNP-rlllyu",
        "outputId": "18d95cb0-9667-4817-c489-78617f38535a"
      },
      "execution_count": null,
      "outputs": [
        {
          "output_type": "stream",
          "name": "stdout",
          "text": [
            "Maximum value: 15, Minimum value: 1\n"
          ]
        }
      ]
    },
    {
      "cell_type": "code",
      "source": [
        "#Q.28 Create a code that defines two sets of integers.Then ,print the union,intersection,and difference of these two sets."
      ],
      "metadata": {
        "id": "k4sSSpy7l32E"
      },
      "execution_count": null,
      "outputs": []
    },
    {
      "cell_type": "code",
      "source": [
        "def set_operations():\n",
        "    set1 = {1, 2, 3, 4, 5}\n",
        "    set2 = {4, 5, 6, 7, 8}\n",
        "\n",
        "    union_set = set1.union(set2)\n",
        "\n",
        "    intersection_set = set1.intersection(set2)\n",
        "\n",
        "    difference_set = set1.difference(set2)\n",
        "\n",
        "    print(f\"Set 1: {set1}\")\n",
        "    print(f\"Set 2: {set2}\")\n",
        "    print(f\"Union: {union_set}\")\n",
        "    print(f\"Intersection: {intersection_set}\")\n",
        "    print(f\"Difference (Set 1 - Set 2): {difference_set}\")\n",
        "\n",
        "set_operations()\n"
      ],
      "metadata": {
        "colab": {
          "base_uri": "https://localhost:8080/"
        },
        "id": "z9JClR5-m6VW",
        "outputId": "cc73fc72-0ed1-4974-c9e4-f127336916e2"
      },
      "execution_count": null,
      "outputs": [
        {
          "output_type": "stream",
          "name": "stdout",
          "text": [
            "Set 1: {1, 2, 3, 4, 5}\n",
            "Set 2: {4, 5, 6, 7, 8}\n",
            "Union: {1, 2, 3, 4, 5, 6, 7, 8}\n",
            "Intersection: {4, 5}\n",
            "Difference (Set 1 - Set 2): {1, 2, 3}\n"
          ]
        }
      ]
    },
    {
      "cell_type": "code",
      "source": [
        "#Q.29 Write a code that takes a tuple and an element as input.The function should return the count of occurrences of the given element in the tuple."
      ],
      "metadata": {
        "id": "X4G4E0DwnA-7"
      },
      "execution_count": null,
      "outputs": []
    },
    {
      "cell_type": "code",
      "source": [
        "def count_element_in_tuple(input_tuple, element):\n",
        "    count = input_tuple.count(element)\n",
        "    return count\n",
        "\n",
        "example_tuple = (1, 2, 3, 4, 2, 5, 2)\n",
        "element_to_count = 2\n",
        "result = count_element_in_tuple(example_tuple, element_to_count)\n",
        "print(f\"The element {element_to_count} occurs {result} times in the tuple.\")\n"
      ],
      "metadata": {
        "colab": {
          "base_uri": "https://localhost:8080/"
        },
        "id": "9dhM44Wgov93",
        "outputId": "1b4e0d7e-893b-4cef-e45e-7d8916951e03"
      },
      "execution_count": null,
      "outputs": [
        {
          "output_type": "stream",
          "name": "stdout",
          "text": [
            "The element 2 occurs 3 times in the tuple.\n"
          ]
        }
      ]
    },
    {
      "cell_type": "code",
      "source": [
        "#Q.30 Develop a code that prompts the user to input two sets of strings.Then,print the symmetric difference of these two sets."
      ],
      "metadata": {
        "id": "WyEjiCQUpJbP"
      },
      "execution_count": null,
      "outputs": []
    },
    {
      "cell_type": "code",
      "source": [
        "def symmetric_difference_of_sets():\n",
        "\n",
        "    set1_input = input(\"Enter the first set of strings (separated by spaces): \")\n",
        "    set2_input = input(\"Enter the second set of strings (separated by spaces): \")\n",
        "\n",
        "    set1 = set(set1_input.split())\n",
        "    set2 = set(set2_input.split())\n",
        "\n",
        "    symmetric_difference = set1.symmetric_difference(set2)\n",
        "\n",
        "    print(f\"The symmetric difference of the two sets is: {symmetric_difference}\")\n",
        "\n",
        "symmetric_difference_of_sets()\n"
      ],
      "metadata": {
        "colab": {
          "base_uri": "https://localhost:8080/"
        },
        "id": "_WGm8-tXrcnc",
        "outputId": "9542eaaf-19f3-4b56-f736-a3f7bd962e00"
      },
      "execution_count": null,
      "outputs": [
        {
          "output_type": "stream",
          "name": "stdout",
          "text": [
            "Enter the first set of strings (separated by spaces): apple banana cherry\n",
            "Enter the second set of strings (separated by spaces): banana cherry date\n",
            "The symmetric difference of the two sets is: {'date', 'apple'}\n"
          ]
        }
      ]
    },
    {
      "cell_type": "code",
      "source": [
        "#Q.31 Write a code that takes a list of words as input and returns a dictionary where the keys are unique words and the values are the frequencies of those words in the input list."
      ],
      "metadata": {
        "id": "eCGRrlEMrpps"
      },
      "execution_count": null,
      "outputs": []
    },
    {
      "cell_type": "code",
      "source": [
        "def word_frequencies(word_list):\n",
        "    frequency_dict = {}\n",
        "\n",
        "    for word in word_list:\n",
        "        if word in frequency_dict:\n",
        "            frequency_dict[word] += 1\n",
        "        else:\n",
        "            frequency_dict[word] = 1\n",
        "\n",
        "    return frequency_dict\n",
        "\n",
        "words = ['apple', 'banana', 'apple', 'orange', 'banana', 'apple']\n",
        "result = word_frequencies(words)\n",
        "print(result)\n"
      ],
      "metadata": {
        "colab": {
          "base_uri": "https://localhost:8080/"
        },
        "id": "n7_Ar7XyvFG7",
        "outputId": "361509ae-57cf-41c8-856b-6f6799fd23bc"
      },
      "execution_count": null,
      "outputs": [
        {
          "output_type": "stream",
          "name": "stdout",
          "text": [
            "{'apple': 3, 'banana': 2, 'orange': 1}\n"
          ]
        }
      ]
    },
    {
      "cell_type": "code",
      "source": [
        "#Q.32 Write a code that takes two dictionaries as input and merges them into a single dictionary.If there are common keys,the values should be added together."
      ],
      "metadata": {
        "id": "aVvmL0tFvVPk"
      },
      "execution_count": null,
      "outputs": []
    },
    {
      "cell_type": "code",
      "source": [
        "def merge_dictionaries(dict1, dict2):\n",
        "    merged_dict = dict1.copy()\n",
        "    for key, value in dict2.items():\n",
        "        if key in merged_dict:\n",
        "            merged_dict[key] += value\n",
        "        else:\n",
        "            merged_dict[key] = value\n",
        "    return merged_dict\n",
        "\n",
        "dict1 = {'a': 10, 'b': 5, 'c': 8}\n",
        "dict2 = {'b': 7, 'c': 3, 'd': 12}\n",
        "\n",
        "result = merge_dictionaries(dict1, dict2)\n",
        "print(result)\n"
      ],
      "metadata": {
        "colab": {
          "base_uri": "https://localhost:8080/"
        },
        "id": "z4NkDg1ywwcS",
        "outputId": "3e56311f-4254-41df-cb71-4896b5ecbe7d"
      },
      "execution_count": null,
      "outputs": [
        {
          "output_type": "stream",
          "name": "stdout",
          "text": [
            "{'a': 10, 'b': 12, 'c': 11, 'd': 12}\n"
          ]
        }
      ]
    },
    {
      "cell_type": "code",
      "source": [
        "#Q.33 write a code to access a value in nested dictionary.The function should take the dictionary and a list of keys as input,and return the corresponding value.If any of the keys do not exist in the dictionary,the function should return None."
      ],
      "metadata": {
        "id": "0Fe-G8iaw7Nh"
      },
      "execution_count": null,
      "outputs": []
    },
    {
      "cell_type": "code",
      "source": [
        "def get_nested_value(d, keys):\n",
        "    for key in keys:\n",
        "        if isinstance(d, dict) and key in d:\n",
        "            d = d[key]\n",
        "        else:\n",
        "            return None\n",
        "    return d\n",
        "\n",
        "nested_dict = {\n",
        "    'a': {\n",
        "        'b': {\n",
        "            'c': 42\n",
        "        }\n",
        "    }\n",
        "}\n",
        "\n",
        "keys = ['a', 'b', 'c']\n",
        "print(get_nested_value(nested_dict, keys))\n",
        "\n",
        "keys = ['a', 'x', 'c']\n",
        "print(get_nested_value(nested_dict, keys))\n"
      ],
      "metadata": {
        "colab": {
          "base_uri": "https://localhost:8080/"
        },
        "id": "VTPZ3zSH1gQz",
        "outputId": "9cb7f60e-bebf-4349-e4d6-d6845dbb431d"
      },
      "execution_count": null,
      "outputs": [
        {
          "output_type": "stream",
          "name": "stdout",
          "text": [
            "42\n",
            "None\n"
          ]
        }
      ]
    },
    {
      "cell_type": "code",
      "source": [
        "#Q.34 Write a code that takes a dictionary as input and returns a sorted version of it based on the values.You can choose whether to sort in ascending or descending order."
      ],
      "metadata": {
        "id": "mq7B7aHf2Vg1"
      },
      "execution_count": null,
      "outputs": []
    },
    {
      "cell_type": "code",
      "source": [
        "def sort_dictionary_by_values(input_dict, ascending=True):\n",
        "    sorted_dict = dict(sorted(input_dict.items(), key=lambda item: item[1], reverse=not ascending))\n",
        "    return sorted_dict\n",
        "\n",
        "my_dict = {'apple': 10, 'banana': 3, 'orange': 7, 'grape': 5}\n",
        "\n",
        "ascending_sorted = sort_dictionary_by_values(my_dict, ascending=True)\n",
        "print(\"Ascending:\", ascending_sorted)\n",
        "\n",
        "descending_sorted = sort_dictionary_by_values(my_dict, ascending=False)\n",
        "print(\"Descending:\", descending_sorted)\n"
      ],
      "metadata": {
        "colab": {
          "base_uri": "https://localhost:8080/"
        },
        "id": "WER7aFED3CPU",
        "outputId": "d2b3d2b8-9a21-44bf-b92c-dea739d14c6c"
      },
      "execution_count": null,
      "outputs": [
        {
          "output_type": "stream",
          "name": "stdout",
          "text": [
            "Ascending: {'banana': 3, 'grape': 5, 'orange': 7, 'apple': 10}\n",
            "Descending: {'apple': 10, 'orange': 7, 'grape': 5, 'banana': 3}\n"
          ]
        }
      ]
    },
    {
      "cell_type": "code",
      "source": [
        "#Q.35 write a code that inverts a dictionary,swapping keys and values.Ensure that the inverted dictionary correctly handles cases where multiple keys have the same value by storing the  as a list in the inverted dictionary."
      ],
      "metadata": {
        "id": "WXY4HUNN3JM7"
      },
      "execution_count": null,
      "outputs": []
    },
    {
      "cell_type": "code",
      "source": [
        "def invert_dictionary(input_dict):\n",
        "    inverted_dict = {}\n",
        "\n",
        "    for key, value in input_dict.items():\n",
        "        if value in inverted_dict:\n",
        "            inverted_dict[value].append(key)\n",
        "        else:\n",
        "            inverted_dict[value] = [key]\n",
        "\n",
        "    return inverted_dict\n",
        "\n",
        "my_dict = {'apple': 1, 'banana': 2, 'grape': 1, 'orange': 3, 'pear': 2}\n",
        "\n",
        "inverted = invert_dictionary(my_dict)\n",
        "print(inverted)\n"
      ],
      "metadata": {
        "colab": {
          "base_uri": "https://localhost:8080/"
        },
        "id": "sC0ZQxh34KHO",
        "outputId": "492c3bda-7b13-46df-c407-ee61fe657f6e"
      },
      "execution_count": null,
      "outputs": [
        {
          "output_type": "stream",
          "name": "stdout",
          "text": [
            "{1: ['apple', 'grape'], 2: ['banana', 'pear'], 3: ['orange']}\n"
          ]
        }
      ]
    },
    {
      "cell_type": "code",
      "source": [],
      "metadata": {
        "id": "Zs_WrPyA4Sud"
      },
      "execution_count": null,
      "outputs": []
    }
  ]
}